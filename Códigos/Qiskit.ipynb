{
 "cells": [
  {
   "cell_type": "markdown",
   "id": "dec34b2b",
   "metadata": {},
   "source": [
    "**LINKS PARA ESTUDO**\n",
    "\n",
    "Qiskit Textbook completo:\n",
    "https://qiskit.org/textbook/\n",
    "\n",
    "Curso gratuito Quantum Computation (edX):\n",
    "https://www.edx.org/course/quantum-computation\n",
    "\n",
    "Artigo introdutório Qiskit:\n",
    "https://qiskit.org/textbook/ch-states/what-is-a-qubit.html\n",
    "\n",
    "Qiskit Textbook (Hadamard Gate):\n",
    "https://qiskit.org/textbook/ch-gates/intro-to-quantum-gates.html#The-Hadamard-Gate\n",
    "\n",
    "Qiskit Textbook (CNOT gate):\n",
    "https://qiskit.org/textbook/ch-gates/more-gates.html#CNOT-Gate\n",
    "\n",
    "Qiskit Textbook (Entanglement chapter):\n",
    "https://qiskit.org/textbook/ch-algorithms/entanglement.html\n",
    "\n",
    "Qiskit Textbook (Math for quantum computing):\n",
    "https://qiskit.org/textbook/ch-states/linear-algebra.html\n",
    "\n",
    "Qiskit Textbook (Measurement chapter):\n",
    "https://qiskit.org/textbook/ch-measurement/measuring-quantum-states.html"
   ]
  },
  {
   "cell_type": "code",
   "execution_count": null,
   "id": "45a7b932",
   "metadata": {},
   "outputs": [
    {
     "ename": "",
     "evalue": "",
     "output_type": "error",
     "traceback": [
      "\u001b[1;31mRunning cells with 'Python 3.13.4' requires the ipykernel package.\n",
      "\u001b[1;31m<a href='command:jupyter.createPythonEnvAndSelectController'>Create a Python Environment</a> with the required packages."
     ]
    }
   ],
   "source": [
    "import qiskit\n",
    "import qiskit.qasm3.exceptions\n",
    "from qiskit import QuantumCircuit\n",
    "from qiskit.qasm3 import dumps\n",
    "from qiskit_qasm3_import import parse\n",
    "\n",
    "circuitQASM = \"\"\"OPENQASM 3.0; include \"stdgates.inc\"; qubit[10] q; bit[3] b; x q[0]; x q[1]; x q[3]; cx q[0], q[4]; cx q[2], q[4]; ccx q[0],q[2],q[5]; cx q[1], q[6]; cx q[3], q[6]; cx q[5], q[6]; ccx q[1], q[3], q[7]; ccx q[1], q[5], q[7]; ccx q[3], q[5], q[7]; b[0] = measure q[4]; b[1] = measure q[6]; b[2] = measure q[7];\"\"\"\n",
    "\n",
    "runQASM = parse(circuitQASM)\n",
    "\n",
    "print(runQASM.draw())"
   ]
  }
 ],
 "metadata": {
  "kernelspec": {
   "display_name": "Python 3",
   "language": "python",
   "name": "python3"
  },
  "language_info": {
   "codemirror_mode": {
    "name": "ipython",
    "version": 3
   },
   "file_extension": ".py",
   "mimetype": "text/x-python",
   "name": "python",
   "nbconvert_exporter": "python",
   "pygments_lexer": "ipython3",
   "version": "3.13.4"
  }
 },
 "nbformat": 4,
 "nbformat_minor": 5
}
