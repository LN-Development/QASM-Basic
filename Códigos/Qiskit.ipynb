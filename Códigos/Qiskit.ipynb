{
 "cells": [
  {
   "cell_type": "code",
   "execution_count": null,
   "id": "45a7b932",
   "metadata": {},
   "outputs": [],
   "source": [
    "import qiskit\n",
    "import qiskit.qasm3.exceptions\n",
    "from qiskit import QuantumCircuit\n",
    "from qiskit.qasm3 import dumps\n",
    "from qiskit_qasm3_import import parse\n",
    "\n",
    "circuitQASM = \"\"\"OPENQASM 3.0; include \"stdgates.inc\"; qubit[10] q; bit[3] b; x q[0]; x q[1]; x q[3]; cx q[0], q[4]; cx q[2], q[4]; ccx q[0],q[2],q[5]; cx q[1], q[6]; cx q[3], q[6]; cx q[5], q[6]; ccx q[1], q[3], q[7]; ccx q[1], q[5], q[7]; ccx q[3], q[5], q[7]; b[0] = measure q[4]; b[1] = measure q[6]; b[2] = measure q[7];\"\"\"\n",
    "\n",
    "runQASM = parse(circuitQASM)\n",
    "\n",
    "print(runQASM.draw())"
   ]
  }
 ],
 "metadata": {
  "kernelspec": {
   "display_name": "Python 3",
   "language": "python",
   "name": "python3"
  },
  "language_info": {
   "codemirror_mode": {
    "name": "ipython",
    "version": 3
   },
   "file_extension": ".py",
   "mimetype": "text/x-python",
   "name": "python",
   "nbconvert_exporter": "python",
   "pygments_lexer": "ipython3",
   "version": "3.13.4"
  }
 },
 "nbformat": 4,



Output:


     ┌───┐                                                      
q_0: ┤ X ├──■───────────────────■───────────────────────────────
     ├───┤  │                   │                               
q_1: ┤ X ├──┼────■──────────────┼────■────────────■─────────────
     └───┘  │    │              │    │            │             
q_2: ───────┼────┼────■─────────■────┼────────────┼─────────────
     ┌───┐  │    │    │         │    │            │             
q_3: ┤ X ├──┼────┼────┼────■────┼────■────────────┼───────■─────
     └───┘┌─┴─┐  │  ┌─┴─┐  │    │    │  ┌─┐       │       │     
q_4: ─────┤ X ├──┼──┤ X ├──┼────┼────┼──┤M├───────┼───────┼─────
          └───┘  │  └───┘  │  ┌─┴─┐  │  └╥┘       │       │     
q_5: ────────────┼─────────┼──┤ X ├──┼───╫───■────■───────■─────
               ┌─┴─┐     ┌─┴─┐└───┘  │   ║ ┌─┴─┐  │  ┌─┐  │     
q_6: ──────────┤ X ├─────┤ X ├───────┼───╫─┤ X ├──┼──┤M├──┼─────
               └───┘     └───┘     ┌─┴─┐ ║ └───┘┌─┴─┐└╥┘┌─┴─┐┌─┐
q_7: ──────────────────────────────┤ X ├─╫──────┤ X ├─╫─┤ X ├┤M├
                                   └───┘ ║      └───┘ ║ └───┘└╥┘
q_8: ────────────────────────────────────╫────────────╫───────╫─
                                         ║            ║       ║ 
q_9: ────────────────────────────────────╫────────────╫───────╫─
                                         ║            ║       ║ 
b: 3/════════════════════════════════════╩════════════╩═══════╩═
                                         0            1       2 
 "nbformat_minor": 5
}
