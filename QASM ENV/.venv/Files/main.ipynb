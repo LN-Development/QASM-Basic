{
 "cells": [
  {
   "cell_type": "markdown",
   "id": "dec34b2b",
   "metadata": {},
   "source": [
    "**LINKS PARA ESTUDO**\n",
    "\n",
    "Qiskit Textbook completo:\n",
    "https://qiskit.org/textbook/\n",
    "\n",
    "Curso gratuito Quantum Computation (edX):\n",
    "https://www.edx.org/course/quantum-computation\n",
    "\n",
    "Artigo introdutório Qiskit:\n",
    "https://qiskit.org/textbook/ch-states/what-is-a-qubit.html\n",
    "\n",
    "Qiskit Textbook (Hadamard Gate):\n",
    "https://qiskit.org/textbook/ch-gates/intro-to-quantum-gates.html#The-Hadamard-Gate\n",
    "\n",
    "Qiskit Textbook (CNOT gate):\n",
    "https://qiskit.org/textbook/ch-gates/more-gates.html#CNOT-Gate\n",
    "\n",
    "Qiskit Textbook (Entanglement chapter):\n",
    "https://qiskit.org/textbook/ch-algorithms/entanglement.html\n",
    "\n",
    "Qiskit Textbook (Math for quantum computing):\n",
    "https://qiskit.org/textbook/ch-states/linear-algebra.html\n",
    "\n",
    "Qiskit Textbook (Measurement chapter):\n",
    "https://qiskit.org/textbook/ch-measurement/measuring-quantum-states.html"
   ]
  },
  {
   "cell_type": "code",
   "execution_count": null,
   "id": "45a7b932",
   "metadata": {},
   "outputs": [
    {
     "data": {
      "text/plain": [
       "<bound method QuantumCircuit.draw of <qiskit.circuit.quantumcircuit.QuantumCircuit object at 0x000001EF78977230>>"
      ]
     },
     "execution_count": 1,
     "metadata": {},
     "output_type": "execute_result"
    }
   ],
   "source": [
    "import qiskit\n",
    "import qiskit.qasm3.exceptions\n",
    "from qiskit import QuantumCircuit\n",
    "from qiskit.qasm3 import dumps\n",
    "from qiskit_qasm3_import import parse\n",
    "\n",
    "circuitQASM = \"\"\"include \"stdgates.inc\";qubit q1;qubit q2;qubit q3;qubit q4;x q3;x q1;x q2;\"\"\"\n",
    "\n",
    "runQASM = parse(circuitQASM)\n",
    "\n",
    "runQASM.draw"
   ]
  }
 ],
 "metadata": {
  "kernelspec": {
   "display_name": ".venv",
   "language": "python",
   "name": "python3"
  },
  "language_info": {
   "codemirror_mode": {
    "name": "ipython",
    "version": 3
   },
   "file_extension": ".py",
   "mimetype": "text/x-python",
   "name": "python",
   "nbconvert_exporter": "python",
   "pygments_lexer": "ipython3",
   "version": "3.13.4"
  }
 },
 "nbformat": 4,
 "nbformat_minor": 5
}
